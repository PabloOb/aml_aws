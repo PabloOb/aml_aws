{
 "cells": [
  {
   "cell_type": "markdown",
   "metadata": {},
   "source": [
    "# Goal\n",
    "\n",
    "The main aim of these transformations is to prepare the dataset for model training, while also not making too many assumptions about the 'real' data. This is why some of the transformations might appear unecessary or even detrimental to the accuracy of the model (e.g. creating artifical time features), but are expected to better mach how the data comming through the pipeline could look like.  "
   ]
  },
  {
   "cell_type": "markdown",
   "metadata": {},
   "source": [
    "# 0. Setup"
   ]
  },
  {
   "cell_type": "markdown",
   "metadata": {},
   "source": [
    "### Necessary imports"
   ]
  },
  {
   "cell_type": "code",
   "execution_count": null,
   "metadata": {},
   "outputs": [],
   "source": [
    "import numpy as np\n",
    "import pandas as pd\n",
    "\n",
    "%matplotlib inline\n",
    "import matplotlib.pyplot as plt\n",
    "import seaborn as sns"
   ]
  },
  {
   "cell_type": "markdown",
   "metadata": {},
   "source": [
    "### Variable setup"
   ]
  },
  {
   "cell_type": "code",
   "execution_count": null,
   "metadata": {},
   "outputs": [],
   "source": [
    "TRANSACTIONS_FILE = \"../data/transactions.csv\"\n",
    "# Set different sample rate < 1 for easier local exploration\n",
    "SAMPLE_RATE = 1"
   ]
  },
  {
   "cell_type": "markdown",
   "metadata": {},
   "source": [
    "# 1. Exploratory Data Analysis"
   ]
  },
  {
   "cell_type": "code",
   "execution_count": null,
   "metadata": {},
   "outputs": [],
   "source": [
    "df = pd.read_csv(TRANSACTIONS_FILE)\n",
    "\n",
    "skip_index = int(1 / SAMPLE_RATE)\n",
    "df = df.iloc[::skip_index, :]"
   ]
  },
  {
   "cell_type": "markdown",
   "metadata": {},
   "source": [
    "Let's check for any missing data first"
   ]
  },
  {
   "cell_type": "code",
   "execution_count": null,
   "metadata": {},
   "outputs": [],
   "source": [
    "df.isnull().values.any()"
   ]
  },
  {
   "cell_type": "code",
   "execution_count": null,
   "metadata": {},
   "outputs": [],
   "source": [
    "df.head()"
   ]
  },
  {
   "cell_type": "markdown",
   "metadata": {},
   "source": [
    "While there are no NaN values in the dataset, there are lots of rows with 0 value for oldBalanceDest and newBalanceDest columns. As the authors of the dataset explain, these values are unavailable for the accounts of Merchants (name starting with M). Will deal with those later"
   ]
  },
  {
   "cell_type": "markdown",
   "metadata": {},
   "source": [
    "Let's check which transaction types are the most likely to be fraudulent"
   ]
  },
  {
   "cell_type": "code",
   "execution_count": null,
   "metadata": {},
   "outputs": [],
   "source": [
    "df.loc[(df.isFraud == 1)].type.value_counts()"
   ]
  },
  {
   "cell_type": "markdown",
   "metadata": {},
   "source": [
    "The fraudulent transactions only occur with two types of transactions. 'TRANSFER' where money is sent to a customer / fraudster and 'CASH_OUT' where money is sent to a merchant who pays the customer / fraudster in cash. It appears to be the effect of assumed modus operandi - the fraud is commited by first transferring out funds to another account, which cashes it out."
   ]
  },
  {
   "cell_type": "code",
   "execution_count": null,
   "metadata": {},
   "outputs": [],
   "source": [
    "df_flagged = df[(df.isFlaggedFraud == 1)]\n",
    "print(\n",
    "    f\"Amount of isFlaggedFraud: {len(df_flagged)}\\n\"\n",
    "    f\"Amount range {int(df_flagged.amount.min())}$ - {int(df_flagged.amount.max())}$\"\n",
    ")\n",
    "\n",
    "df_flagged_wrong = df.loc[\n",
    "    (df.type == \"TRANSFER\") & (df.amount > 200000) & (df.isFlaggedFraud == 0)\n",
    "]\n",
    "print(\n",
    "    f\"Number of transactions above 200,000$ without isFlaggedFraud: {len(df_flagged_wrong)}\"\n",
    ")"
   ]
  },
  {
   "cell_type": "markdown",
   "metadata": {},
   "source": [
    "The feature 'isFlaggedFraud' does not seem to be clear. As per the dataset description, isFlaggedFraud should be 1 an attempt is made to 'TRANSFER' an 'amount' greater than 200,000. As shown below, there are some cases where it is not true. Since it is used in only 16 cases (0.00025%) with no apparent logic, it can be dropped without loosing too much information. "
   ]
  },
  {
   "cell_type": "markdown",
   "metadata": {},
   "source": [
    "### Merchant/Customers and their payments"
   ]
  },
  {
   "cell_type": "code",
   "execution_count": null,
   "metadata": {},
   "outputs": [],
   "source": [
    "df_merchant_origin = df[(df.nameOrig.str.startswith(\"M\"))]\n",
    "print(f\"Number of merchants originating transations: {len(df_merchant_origin)}\")\n",
    "\n",
    "df_merchant_dest = df[(df.nameDest.str.startswith(\"M\"))]\n",
    "print(f\"Number of merchants originating transations: {len(df_merchant_dest)}\")\n",
    "\n",
    "print(f\"Transaction types to Merchants: \\n{df_merchant_dest.type.value_counts()}\")"
   ]
  },
  {
   "cell_type": "markdown",
   "metadata": {},
   "source": [
    "Merchants occur only among destination accounts, with no transaction originating from a merchant. Merchants receive only 'PAYMENT' type transactions. "
   ]
  },
  {
   "cell_type": "markdown",
   "metadata": {},
   "source": [
    "As all of the transactions are originated by consumers, the transaction type distribution for consumer originated transactions will be the same as for the entire dataset."
   ]
  },
  {
   "cell_type": "code",
   "execution_count": null,
   "metadata": {},
   "outputs": [],
   "source": [
    "df_customer_dest = df[(df.nameDest.str.startswith(\"C\"))]\n",
    "print(f\"Number of merchants originating transations: {len(df_customer_dest)}\")\n",
    "\n",
    "print(f\"Transaction types to Consumers: \\n{df_customer_dest.type.value_counts()}\")"
   ]
  },
  {
   "cell_type": "markdown",
   "metadata": {},
   "source": [
    "## Time distribution"
   ]
  },
  {
   "cell_type": "markdown",
   "metadata": {},
   "source": []
  },
  {
   "cell_type": "code",
   "execution_count": null,
   "metadata": {},
   "outputs": [],
   "source": [
    "df.step.hist(bins=30)"
   ]
  },
  {
   "cell_type": "code",
   "execution_count": null,
   "metadata": {},
   "outputs": [],
   "source": [
    "# TODO: hourly distribution\n",
    "df_fraud = df[(df.isFraud == 1)]\n",
    "\n",
    "df_fraud.step.hist(bins=30)"
   ]
  },
  {
   "cell_type": "code",
   "execution_count": null,
   "metadata": {},
   "outputs": [],
   "source": []
  },
  {
   "cell_type": "markdown",
   "metadata": {},
   "source": [
    "While there are several limitations to the used dataset (weird isFlaggedFraud flag, limited merchants behavior), it is still an interesting starting point for the project. As achieving a model that will perform perfectly in real-world conditions is not the main aim, the limitations are acceptable. "
   ]
  },
  {
   "cell_type": "code",
   "execution_count": null,
   "metadata": {},
   "outputs": [],
   "source": []
  },
  {
   "cell_type": "markdown",
   "metadata": {},
   "source": [
    "# Data cleaning"
   ]
  },
  {
   "cell_type": "code",
   "execution_count": null,
   "metadata": {},
   "outputs": [],
   "source": [
    "# TODO: zero values for balance"
   ]
  },
  {
   "cell_type": "markdown",
   "metadata": {},
   "source": [
    "# Feature engineering"
   ]
  },
  {
   "cell_type": "markdown",
   "metadata": {},
   "source": [
    "## Convert time\n",
    "\n",
    "One could expect that the time would play a major role in determining whether a transaction is fraudulent or not (e.g. a transaction at 03:00 on Tuesday is more susupcious than at 18:00 on Friday). The generator provides data with 'steps', that correspond to one hour passing. Unfortunately"
   ]
  },
  {
   "cell_type": "code",
   "execution_count": null,
   "metadata": {},
   "outputs": [],
   "source": []
  },
  {
   "cell_type": "code",
   "execution_count": null,
   "metadata": {},
   "outputs": [],
   "source": [
    "columns_to_drop = [\"\"]"
   ]
  },
  {
   "cell_type": "code",
   "execution_count": null,
   "metadata": {},
   "outputs": [],
   "source": [
    "df = df.drop(columns_to_drop, axis=1)"
   ]
  },
  {
   "cell_type": "code",
   "execution_count": null,
   "metadata": {},
   "outputs": [],
   "source": [
    "relevant.head()"
   ]
  },
  {
   "cell_type": "code",
   "execution_count": null,
   "metadata": {},
   "outputs": [],
   "source": [
    "## Create customer type"
   ]
  },
  {
   "cell_type": "code",
   "execution_count": null,
   "metadata": {},
   "outputs": [],
   "source": [
    "# as only customers can originate payments, they can be converted to IDs\n",
    "relevant[\"source_id\"] = relevant[\"nameOrig\"].str[1:].astype(int)\n",
    "relevant[\"dest_id\"] = relevant[\"nameDest\"].str[1:].astype(int)\n",
    "relevant[\"dest_type\"] = relevant[\"nameDest\"].str[0].astype(str)\n",
    "\n",
    "relevant = relevant.drop(columns=[\"nameOrig\", \"nameDest\"])"
   ]
  },
  {
   "cell_type": "code",
   "execution_count": null,
   "metadata": {},
   "outputs": [],
   "source": [
    "relevant.head()"
   ]
  },
  {
   "cell_type": "code",
   "execution_count": null,
   "metadata": {},
   "outputs": [],
   "source": [
    "sum(relevant[\"oldbalanceDest\"] == 0)\n",
    "sum(relevant.dest_type == \"M\")"
   ]
  },
  {
   "cell_type": "code",
   "execution_count": null,
   "metadata": {},
   "outputs": [],
   "source": [
    "270439 / len(relevant)"
   ]
  },
  {
   "cell_type": "code",
   "execution_count": null,
   "metadata": {},
   "outputs": [],
   "source": [
    "relevant[(relevant[\"oldbalanceDest\"] < 0.01) & (relevant[\"newbalanceDest\"] < 0.01)]"
   ]
  },
  {
   "cell_type": "code",
   "execution_count": null,
   "metadata": {},
   "outputs": [],
   "source": [
    "relevant.dtypes"
   ]
  },
  {
   "cell_type": "code",
   "execution_count": null,
   "metadata": {},
   "outputs": [],
   "source": []
  }
 ],
 "metadata": {
  "kernelspec": {
   "display_name": "Python 3.9.4 64-bit ('studia': pyenv)",
   "name": "python394jvsc74a57bd04731d68b192cd4b50b9168911947bf0ec31567622815b07e0f2d9f0e4056bcaa"
  },
  "language_info": {
   "codemirror_mode": {
    "name": "ipython",
    "version": 3
   },
   "file_extension": ".py",
   "mimetype": "text/x-python",
   "name": "python",
   "nbconvert_exporter": "python",
   "pygments_lexer": "ipython3",
   "version": "3.9.4"
  },
  "metadata": {
   "interpreter": {
    "hash": "4731d68b192cd4b50b9168911947bf0ec31567622815b07e0f2d9f0e4056bcaa"
   }
  }
 },
 "nbformat": 4,
 "nbformat_minor": 2
}
