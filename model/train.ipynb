{
 "cells": [
  {
   "cell_type": "markdown",
   "id": "824029ba",
   "metadata": {},
   "source": [
    "# 0. Setup"
   ]
  },
  {
   "cell_type": "code",
   "execution_count": null,
   "id": "a3aea626",
   "metadata": {},
   "outputs": [],
   "source": [
    "# Necessary imports\n",
    "from datetime import date\n",
    "\n",
    "import sagemaker\n",
    "from sagemaker.debugger import Rule, rule_configs\n",
    "from sagemaker.session import TrainingInput"
   ]
  },
  {
   "cell_type": "code",
   "execution_count": null,
   "id": "e4aaf102",
   "metadata": {},
   "outputs": [],
   "source": [
    "# Region/role setup\n",
    "region = sagemaker.Session().boto_region_name\n",
    "print(f\"AWS Region: {region}\")\n",
    "role = sagemaker.get_execution_role()\n",
    "print(f\"RoleArn: {role}\")"
   ]
  },
  {
   "cell_type": "code",
   "execution_count": null,
   "id": "efab81bd",
   "metadata": {},
   "outputs": [],
   "source": [
    "bucket = \"aml-project-storage\"\n",
    "model_prefix = \"model\"\n",
    "data_folder_prefix = \"data\"\n",
    "\n",
    "dataset_stamp = \"20210607\"\n",
    "today_stamp = str(date.today()).replace(\"-\", \"\")\n",
    "\n",
    "s3_output_location = \"s3://{}/{}/{}/{}/\".format(\n",
    "    bucket, model_prefix, \"xgboost\", today_stamp\n",
    ")\n",
    "print(f\"Output: {s3_output_location}\")\n",
    "\n",
    "s3_train_folder = \"s3://{}/{}/{}/{}/\".format(\n",
    "    bucket, data_folder_prefix, \"train\", dataset_stamp\n",
    ")\n",
    "s3_test_folder = \"s3://{}/{}/{}/{}/\".format(\n",
    "    bucket, data_folder_prefix, \"test\", dataset_stamp\n",
    ")\n",
    "s3_validation_folder = \"s3://{}/{}/{}/{}/\".format(\n",
    "    bucket, data_folder_prefix, \"validation\", dataset_stamp\n",
    ")\n",
    "print(f\"Train: {s3_train_folder}\")\n",
    "print(f\"Test: {s3_test_folder}\")\n",
    "print(f\"Validation: {s3_validation_folder}\")"
   ]
  },
  {
   "cell_type": "code",
   "execution_count": null,
   "id": "a4c5f9fc",
   "metadata": {},
   "outputs": [],
   "source": [
    "# Get the training container\n",
    "container = sagemaker.image_uris.retrieve(\n",
    "    \"xgboost\", region, \"0.90-1\"\n",
    ")  # chose 0.90-1, as the latest has problems with aucpr metric\n",
    "print(container)"
   ]
  },
  {
   "cell_type": "markdown",
   "id": "a8249dd8",
   "metadata": {},
   "source": [
    "# 1. Training"
   ]
  },
  {
   "cell_type": "code",
   "execution_count": null,
   "id": "d1955cf6",
   "metadata": {},
   "outputs": [],
   "source": [
    "xgb_model = sagemaker.estimator.Estimator(\n",
    "    image_uri=container,\n",
    "    role=role,\n",
    "    instance_count=1,\n",
    "    instance_type=\"ml.m5.xlarge\",\n",
    "    volume_size=5,\n",
    "    output_path=s3_output_location,\n",
    "    sagemaker_session=sagemaker.Session(),\n",
    "    rules=[Rule.sagemaker(rule_configs.create_xgboost_report())],\n",
    ")"
   ]
  },
  {
   "cell_type": "code",
   "execution_count": null,
   "id": "e2d55cd4",
   "metadata": {},
   "outputs": [],
   "source": [
    "train_input = TrainingInput(\n",
    "    s3_train_folder, content_type=\"csv\", s3_data_type=\"S3Prefix\"\n",
    ")\n",
    "validation_input = TrainingInput(\n",
    "    s3_validation_folder, content_type=\"csv\", s3_data_type=\"S3Prefix\"\n",
    ")"
   ]
  },
  {
   "cell_type": "code",
   "execution_count": null,
   "id": "21917574",
   "metadata": {},
   "outputs": [],
   "source": [
    "# First run - without modyfigin scale_pos_weight (defualt 1)\n",
    "xgb_model.set_hyperparameters(\n",
    "    max_depth=5,\n",
    "    eta=0.2,  # learning_rate\n",
    "    objective=\"binary:logistic\",\n",
    "    num_round=50,\n",
    "    eval_metric=\"aucpr\",\n",
    ")"
   ]
  },
  {
   "cell_type": "code",
   "execution_count": null,
   "id": "1b711870",
   "metadata": {
    "jupyter": {
     "outputs_hidden": true
    }
   },
   "outputs": [],
   "source": [
    "xgb_model.fit({\"train\": train_input, \"validation\": validation_input}, wait=True)"
   ]
  },
  {
   "cell_type": "code",
   "execution_count": null,
   "id": "723601c6",
   "metadata": {
    "jupyter": {
     "outputs_hidden": true
    }
   },
   "outputs": [],
   "source": [
    "# Test higher scale_pos_weight, less rounds\n",
    "xgb_model.set_hyperparameters(\n",
    "    max_depth=5,\n",
    "    eta=0.2,  # learning_rate\n",
    "    objective=\"binary:logistic\",\n",
    "    num_round=25,\n",
    "    eval_metric=\"aucpr\",\n",
    "    scale_pos_weight=1000,  # Balance positive/negative weights\n",
    ")\n",
    "xgb_model.fit({\"train\": train_input, \"validation\": validation_input}, wait=True)"
   ]
  },
  {
   "cell_type": "code",
   "execution_count": null,
   "id": "c56408df",
   "metadata": {},
   "outputs": [],
   "source": [
    "# Test even higher scale_pos_weight\n",
    "xgb_model.set_hyperparameters(\n",
    "    max_depth=5,\n",
    "    eta=0.2,  # learning_rate\n",
    "    objective=\"binary:logistic\",\n",
    "    num_round=25,\n",
    "    eval_metric=\"aucpr\",\n",
    "    scale_pos_weight=10000,  # Balance positive/negative weights\n",
    ")\n",
    "xgb_model.fit({\"train\": train_input, \"validation\": validation_input}, wait=True)"
   ]
  },
  {
   "cell_type": "code",
   "execution_count": null,
   "id": "39484539",
   "metadata": {},
   "outputs": [],
   "source": [
    "# 2. Hyperparameter Tuning"
   ]
  },
  {
   "cell_type": "code",
   "execution_count": null,
   "id": "1738c1cd",
   "metadata": {},
   "outputs": [],
   "source": [
    "tuning_job_config = {\n",
    "    \"ParameterRanges\": {\n",
    "        \"CategoricalParameterRanges\": [],\n",
    "        \"ContinuousParameterRanges\": [\n",
    "            {\"MaxValue\": \"1\", \"MinValue\": \"0\", \"Name\": \"eta\"},\n",
    "            {\"MaxValue\": \"2\", \"MinValue\": \"0\", \"Name\": \"alpha\"},\n",
    "            {\"MaxValue\": \"10\", \"MinValue\": \"1\", \"Name\": \"min_child_weight\"},\n",
    "        ],\n",
    "        \"IntegerParameterRanges\": [\n",
    "            {\"MaxValue\": \"10\", \"MinValue\": \"1\", \"Name\": \"max_depth\"}\n",
    "        ],\n",
    "    },\n",
    "    \"ResourceLimits\": {\"MaxNumberOfTrainingJobs\": 20, \"MaxParallelTrainingJobs\": 3},\n",
    "    \"Strategy\": \"Bayesian\",\n",
    "    \"HyperParameterTuningJobObjective\": {\n",
    "        \"MetricName\": \"validation:aucpr\",\n",
    "        \"Type\": \"Maximize\",\n",
    "    },\n",
    "}"
   ]
  },
  {
   "cell_type": "code",
   "execution_count": null,
   "id": "894b4e18",
   "metadata": {},
   "outputs": [],
   "source": [
    "training_job_definition = {\n",
    "    \"AlgorithmSpecification\": {\"TrainingImage\": container, \"TrainingInputMode\": \"File\"},\n",
    "    \"InputDataConfig\": [\n",
    "        {\n",
    "            \"ChannelName\": \"train\",\n",
    "            \"CompressionType\": \"None\",\n",
    "            \"ContentType\": \"csv\",\n",
    "            \"DataSource\": {\n",
    "                \"S3DataSource\": {\n",
    "                    \"S3DataDistributionType\": \"FullyReplicated\",\n",
    "                    \"S3DataType\": \"S3Prefix\",\n",
    "                    \"S3Uri\": s3_train_folder,\n",
    "                }\n",
    "            },\n",
    "        },\n",
    "        {\n",
    "            \"ChannelName\": \"validation\",\n",
    "            \"CompressionType\": \"None\",\n",
    "            \"ContentType\": \"csv\",\n",
    "            \"DataSource\": {\n",
    "                \"S3DataSource\": {\n",
    "                    \"S3DataDistributionType\": \"FullyReplicated\",\n",
    "                    \"S3DataType\": \"S3Prefix\",\n",
    "                    \"S3Uri\": s3_validation_folder,\n",
    "                }\n",
    "            },\n",
    "        },\n",
    "    ],\n",
    "    \"OutputDataConfig\": {\"S3OutputPath\": s3_output_location},\n",
    "    \"ResourceConfig\": {\n",
    "        \"InstanceCount\": 2,\n",
    "        \"InstanceType\": \"ml.m4.xlarge\",\n",
    "        \"VolumeSizeInGB\": 10,\n",
    "    },\n",
    "    \"RoleArn\": role,\n",
    "    \"StaticHyperParameters\": {\n",
    "        \"eval_metric\": \"aucpr\",\n",
    "        \"num_round\": \"50\",\n",
    "        \"objective\": \"binary:logistic\",\n",
    "        \"rate_drop\": \"0.3\",\n",
    "        \"tweedie_variance_power\": \"1.4\",\n",
    "        \"scale_pos_weight\": \"1000\",\n",
    "    },\n",
    "    \"StoppingCondition\": {\"MaxRuntimeInSeconds\": 43200},\n",
    "}"
   ]
  },
  {
   "cell_type": "code",
   "execution_count": null,
   "id": "007f102f",
   "metadata": {},
   "outputs": [],
   "source": []
  },
  {
   "cell_type": "code",
   "execution_count": null,
   "id": "79c90a8b",
   "metadata": {},
   "outputs": [],
   "source": [
    "smclient = boto3.Session().client(\"sagemaker\")\n",
    "tuning_job_name = \"XGBoost-aml-tune-pos-1000\"\n",
    "smclient.create_hyper_parameter_tuning_job(\n",
    "    HyperParameterTuningJobName=tuning_job_name,\n",
    "    HyperParameterTuningJobConfig=tuning_job_config,\n",
    "    TrainingJobDefinition=training_job_definition,\n",
    ")"
   ]
  },
  {
   "cell_type": "code",
   "execution_count": null,
   "id": "09a53335",
   "metadata": {},
   "outputs": [],
   "source": [
    "# Deploy the model (Optional)\n",
    "from sagemaker.serializers import CSVSerializer\n",
    "\n",
    "xgb_predictor = xgb_model.deploy(\n",
    "    initial_instance_count=1,\n",
    "    instance_type=\"ml.m5.xlarge\",\n",
    "    serializer=CSVSerializer(),\n",
    "    endpoint_name=\"aml-project-prediction-endpoint\",\n",
    ")"
   ]
  },
  {
   "cell_type": "code",
   "execution_count": null,
   "id": "469850c7",
   "metadata": {},
   "outputs": [],
   "source": [
    "# Create example fraud and normal records (taken from historical data)\n",
    "example_fraud_record = \"0.0,7970766.57,7970766.57,0.0,0.0,0,0,1,0,0,0,0\"\n",
    "example_normal_record = \"1.12,92321.42,92320.29,0.0,0.0,0,0,1,0,0,0,0\""
   ]
  },
  {
   "cell_type": "code",
   "execution_count": null,
   "id": "44480c65",
   "metadata": {},
   "outputs": [],
   "source": [
    "xgb_predictor.predict(example_normal_record)"
   ]
  },
  {
   "cell_type": "code",
   "execution_count": null,
   "id": "706512b8",
   "metadata": {},
   "outputs": [],
   "source": [
    "xgb_predictor.predict(example_fraud_record)"
   ]
  },
  {
   "cell_type": "code",
   "execution_count": null,
   "id": "6a809452",
   "metadata": {},
   "outputs": [],
   "source": [
    "# Delete the endpoint\n",
    "xgb_predictor.delete_endpoint()"
   ]
  },
  {
   "cell_type": "code",
   "execution_count": null,
   "id": "0bad563b",
   "metadata": {},
   "outputs": [],
   "source": [
    "import json\n",
    "\n",
    "# Alternative way of invoking the endpoint through boto\n",
    "import boto3\n",
    "\n",
    "client = boto3.client(\"sagemaker-runtime\")\n",
    "response = client.invoke_endpoint(\n",
    "    EndpointName=xgb_predictor.endpoint_name,\n",
    "    Body=bytes(example_fraud_record, encoding=\"utf-8\"),\n",
    "    ContentType=\"text/csv\",\n",
    ")\n",
    "\n",
    "json.loads(response[\"Body\"].read())"
   ]
  },
  {
   "cell_type": "code",
   "execution_count": null,
   "id": "cd537306",
   "metadata": {},
   "outputs": [],
   "source": []
  }
 ],
 "metadata": {
  "kernelspec": {
   "display_name": "conda_python3",
   "language": "python",
   "name": "conda_python3"
  },
  "language_info": {
   "codemirror_mode": {
    "name": "ipython",
    "version": 3
   },
   "file_extension": ".py",
   "mimetype": "text/x-python",
   "name": "python",
   "nbconvert_exporter": "python",
   "pygments_lexer": "ipython3",
   "version": "3.6.13"
  }
 },
 "nbformat": 4,
 "nbformat_minor": 5
}
