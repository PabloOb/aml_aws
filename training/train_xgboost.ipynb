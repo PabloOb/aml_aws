{
 "cells": [
  {
   "cell_type": "code",
   "execution_count": null,
   "id": "832f12a3",
   "metadata": {},
   "outputs": [],
   "source": [
    "# Necessary imports\n",
    "from datetime import date\n",
    "\n",
    "import sagemaker\n",
    "from sagemaker.debugger import Rule, rule_configs\n",
    "from sagemaker.session import TrainingInput"
   ]
  },
  {
   "cell_type": "code",
   "execution_count": null,
   "id": "7590e199",
   "metadata": {},
   "outputs": [],
   "source": [
    "# Region/role setup\n",
    "region = sagemaker.Session().boto_region_name\n",
    "print(f\"AWS Region: {region}\")\n",
    "role = sagemaker.get_execution_role()\n",
    "print(f\"RoleArn: {role}\")"
   ]
  },
  {
   "cell_type": "code",
   "execution_count": null,
   "id": "f05c9d48",
   "metadata": {},
   "outputs": [],
   "source": [
    "bucket = \"aml-project-storage\"\n",
    "model_prefix = \"model\"\n",
    "data_folder_prefix = \"data\"\n",
    "\n",
    "dataset_stamp = \"20210607\"\n",
    "today_stamp = str(date.today()).replace(\"-\", \"\")\n",
    "\n",
    "s3_output_location = \"s3://{}/{}/{}/{}/\".format(\n",
    "    bucket, model_prefix, \"xgboost\", today_stamp\n",
    ")\n",
    "print(f\"Output: {s3_output_location}\")\n",
    "\n",
    "s3_train_folder = \"s3://{}/{}/{}/{}/\".format(\n",
    "    bucket, data_folder_prefix, \"train\", dataset_stamp\n",
    ")\n",
    "s3_test_folder = \"s3://{}/{}/{}/{}/\".format(\n",
    "    bucket, data_folder_prefix, \"test\", dataset_stamp\n",
    ")\n",
    "s3_validation_folder = \"s3://{}/{}/{}/{}/\".format(\n",
    "    bucket, data_folder_prefix, \"validation\", dataset_stamp\n",
    ")\n",
    "print(f\"Train: {s3_train_folder}\")\n",
    "print(f\"Test: {s3_test_folder}\")\n",
    "print(f\"Validation: {s3_validation_folder}\")"
   ]
  },
  {
   "cell_type": "code",
   "execution_count": null,
   "id": "7b7979ae",
   "metadata": {},
   "outputs": [],
   "source": [
    "# Get the training container\n",
    "container = sagemaker.image_uris.retrieve(\n",
    "    \"xgboost\", region, \"0.90-1\"\n",
    ")  # chose 0.90-1, as the latest has problems with aucpr metric\n",
    "print(container)"
   ]
  },
  {
   "cell_type": "code",
   "execution_count": null,
   "id": "0f694265",
   "metadata": {},
   "outputs": [],
   "source": [
    "xgb_model = sagemaker.estimator.Estimator(\n",
    "    image_uri=container,\n",
    "    role=role,\n",
    "    instance_count=1,\n",
    "    instance_type=\"ml.m5.xlarge\",\n",
    "    volume_size=5,\n",
    "    output_path=s3_output_location,\n",
    "    sagemaker_session=sagemaker.Session(),\n",
    "    rules=[Rule.sagemaker(rule_configs.create_xgboost_report())],\n",
    ")"
   ]
  },
  {
   "cell_type": "code",
   "execution_count": null,
   "id": "74cc645f",
   "metadata": {},
   "outputs": [],
   "source": [
    "xgb_model.set_hyperparameters(\n",
    "    max_depth=5,\n",
    "    eta=0.2,  # learning_rate\n",
    "    objective=\"binary:logistic\",\n",
    "    num_round=50,\n",
    "    eval_metric=\"aucpr\",\n",
    "    scale_pos_weight=10,  # Balance positive/negative weights\n",
    ")"
   ]
  },
  {
   "cell_type": "code",
   "execution_count": null,
   "id": "b16fd185",
   "metadata": {},
   "outputs": [],
   "source": [
    "train_input = TrainingInput(\n",
    "    s3_train_folder, content_type=\"csv\", s3_data_type=\"S3Prefix\"\n",
    ")\n",
    "validation_input = TrainingInput(\n",
    "    s3_validation_folder, content_type=\"csv\", s3_data_type=\"S3Prefix\"\n",
    ")"
   ]
  },
  {
   "cell_type": "code",
   "execution_count": null,
   "id": "b1bb5a89",
   "metadata": {},
   "outputs": [],
   "source": [
    "xgb_model.fit({\"train\": train_input, \"validation\": validation_input}, wait=True)"
   ]
  },
  {
   "cell_type": "code",
   "execution_count": null,
   "id": "a091b7c4",
   "metadata": {},
   "outputs": [],
   "source": []
  }
 ],
 "metadata": {
  "kernelspec": {
   "display_name": "conda_python3",
   "language": "python",
   "name": "conda_python3"
  },
  "language_info": {
   "codemirror_mode": {
    "name": "ipython",
    "version": 3
   },
   "file_extension": ".py",
   "mimetype": "text/x-python",
   "name": "python",
   "nbconvert_exporter": "python",
   "pygments_lexer": "ipython3",
   "version": "3.6.13"
  }
 },
 "nbformat": 4,
 "nbformat_minor": 5
}
